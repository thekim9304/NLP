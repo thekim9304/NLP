{
 "cells": [
  {
   "cell_type": "markdown",
   "metadata": {
    "collapsed": true,
    "pycharm": {
     "name": "#%% md\n"
    }
   },
   "source": [
    "# BoW (Bag-of-Words)\n",
    "\n",
    "### 의문\n",
    "1. 단어 Index 순서는 미리 정해져있는지??\n",
    "    - 아마 한 collection or breeze 엔진 내에서는 정해져 있을거 같음"
   ]
  },
  {
   "cell_type": "markdown",
   "source": [
    "### 과정"
   ],
   "metadata": {
    "collapsed": false,
    "pycharm": {
     "name": "#%% md\n"
    }
   }
  },
  {
   "cell_type": "code",
   "source": [
    "import numpy as np\n",
    "\n",
    "from sklearn.preprocessing import OneHotEncoder\n",
    "\n",
    "ORI_STRING = \"28일 카카오엔터프라이즈에 따르면 카카오워크 이용자들에게 발송한 공지 메일을 통해 내년 업데이트 예정 기능을 안내했다. 개발 예정 목록에 카카오톡처럼 보낸 메시지를 삭제하고, 전화번호로 새로운 멤버를 초대하는 기능이 포함돼 있다.\"\n",
    "# 형태소 색인 했다고 가정\n",
    "# 어잘 단위 분리 -> 조사/형용사 제거 (형태소)\n",
    "TEST_STRING = \"28일 카카오엔터프라이즈 카카오워크 이용자 발송 공지 메일 통해 내년 업데이트 예정 기능 안내 개발 예정 목록 카카오톡 메시지 삭제 전화번호 멤버 초대 기능 포함 있다\"\n",
    "WORDS = ['카카오엔터프라이즈', '카카오', '카카오워크', '공지', '멤버', '메일', '업데이트', '기능', '개발', '카카오톡', '메시지', '전화번호']"
   ],
   "metadata": {
    "collapsed": false,
    "pycharm": {
     "name": "#%%\n"
    }
   },
   "execution_count": 1,
   "outputs": []
  },
  {
   "cell_type": "code",
   "execution_count": 2,
   "outputs": [
    {
     "name": "stdout",
     "output_type": "stream",
     "text": [
      "Len of the static categories : 12\n",
      "idx : 0, word : 카카오엔터프라이즈\n",
      "idx : 1, word : 카카오\n",
      "idx : 2, word : 카카오워크\n",
      "idx : 3, word : 공지\n",
      "idx : 4, word : 멤버\n",
      "idx : 5, word : 메일\n",
      "idx : 6, word : 업데이트\n",
      "idx : 7, word : 기능\n",
      "idx : 8, word : 개발\n",
      "idx : 9, word : 카카오톡\n",
      "idx : 10, word : 메시지\n",
      "idx : 11, word : 전화번호\n",
      "\n",
      "\n",
      "입력된 categories (자동으로 오름차순 정렬)\n",
      "[array(['개발', '공지', '기능', '메시지', '메일', '멤버', '업데이트', '전화번호', '카카오',\n",
      "       '카카오엔터프라이즈', '카카오워크', '카카오톡'], dtype='<U9')]\n"
     ]
    }
   ],
   "source": [
    "index_list = np.array(TEST_STRING.split())\n",
    "index_list = index_list.reshape(-1, 1)\n",
    "\n",
    "print(f'Len of the static categories : {len(WORDS)}')\n",
    "categories = np.array(WORDS).reshape(-1, 1)\n",
    "for i, word in enumerate(WORDS):\n",
    "    print(f'idx : {i}, word : {word}')\n",
    "\n",
    "# handle_unknown : 변환 중에 알 수 없는 범주 특성이 있는 경우 오류를 발생 시킬지 여부\n",
    "enc = OneHotEncoder(handle_unknown='ignore')\n",
    "# 자동으로 오름차순 정렬\n",
    "enc.fit(categories)\n",
    "print('\\n\\n입력된 categories (자동으로 오름차순 정렬)')\n",
    "print(enc.categories_)"
   ],
   "metadata": {
    "collapsed": false,
    "pycharm": {
     "name": "#%%\n"
    }
   }
  },
  {
   "cell_type": "code",
   "execution_count": 3,
   "outputs": [
    {
     "name": "stdout",
     "output_type": "stream",
     "text": [
      "\n",
      "입력된 색인 단어 목록\n",
      "[['28일']\n",
      " ['카카오엔터프라이즈']\n",
      " ['카카오워크']\n",
      " ['이용자']\n",
      " ['발송']\n",
      " ['공지']\n",
      " ['메일']\n",
      " ['통해']\n",
      " ['내년']\n",
      " ['업데이트']\n",
      " ['예정']\n",
      " ['기능']\n",
      " ['안내']\n",
      " ['개발']\n",
      " ['예정']\n",
      " ['목록']\n",
      " ['카카오톡']\n",
      " ['메시지']\n",
      " ['삭제']\n",
      " ['전화번호']\n",
      " ['멤버']\n",
      " ['초대']\n",
      " ['기능']\n",
      " ['포함']\n",
      " ['있다']]\n",
      "\n",
      "\n",
      "\n",
      "         . [0. 0. 0. 0. 0. 0. 0. 0. 0. 0. 0. 0.]\n",
      "카카오엔터프라이즈 ---------- [0. 0. 0. 0. 0. 0. 0. 0. 0. 1. 0. 0.]\n",
      "카카오워크 ---------- [0. 0. 0. 0. 0. 0. 0. 0. 0. 0. 1. 0.]\n",
      "         . [0. 0. 0. 0. 0. 0. 0. 0. 0. 0. 0. 0.]\n",
      "         . [0. 0. 0. 0. 0. 0. 0. 0. 0. 0. 0. 0.]\n",
      "공지 ---------- [0. 1. 0. 0. 0. 0. 0. 0. 0. 0. 0. 0.]\n",
      "메일 ---------- [0. 0. 0. 0. 1. 0. 0. 0. 0. 0. 0. 0.]\n",
      "         . [0. 0. 0. 0. 0. 0. 0. 0. 0. 0. 0. 0.]\n",
      "         . [0. 0. 0. 0. 0. 0. 0. 0. 0. 0. 0. 0.]\n",
      "업데이트 ---------- [0. 0. 0. 0. 0. 0. 1. 0. 0. 0. 0. 0.]\n",
      "         . [0. 0. 0. 0. 0. 0. 0. 0. 0. 0. 0. 0.]\n",
      "기능 ---------- [0. 0. 1. 0. 0. 0. 0. 0. 0. 0. 0. 0.]\n",
      "         . [0. 0. 0. 0. 0. 0. 0. 0. 0. 0. 0. 0.]\n",
      "개발 ---------- [1. 0. 0. 0. 0. 0. 0. 0. 0. 0. 0. 0.]\n",
      "         . [0. 0. 0. 0. 0. 0. 0. 0. 0. 0. 0. 0.]\n",
      "         . [0. 0. 0. 0. 0. 0. 0. 0. 0. 0. 0. 0.]\n",
      "카카오톡 ---------- [0. 0. 0. 0. 0. 0. 0. 0. 0. 0. 0. 1.]\n",
      "메시지 ---------- [0. 0. 0. 1. 0. 0. 0. 0. 0. 0. 0. 0.]\n",
      "         . [0. 0. 0. 0. 0. 0. 0. 0. 0. 0. 0. 0.]\n",
      "전화번호 ---------- [0. 0. 0. 0. 0. 0. 0. 1. 0. 0. 0. 0.]\n",
      "멤버 ---------- [0. 0. 0. 0. 0. 1. 0. 0. 0. 0. 0. 0.]\n",
      "         . [0. 0. 0. 0. 0. 0. 0. 0. 0. 0. 0. 0.]\n",
      "기능 ---------- [0. 0. 1. 0. 0. 0. 0. 0. 0. 0. 0. 0.]\n",
      "         . [0. 0. 0. 0. 0. 0. 0. 0. 0. 0. 0. 0.]\n",
      "         . [0. 0. 0. 0. 0. 0. 0. 0. 0. 0. 0. 0.]\n",
      "\n",
      "non_matched_list\n",
      "['28일', '이용자', '발송', '통해', '내년', '예정', '안내', '예정', '목록', '삭제', '초대', '포함', '있다']\n"
     ]
    }
   ],
   "source": [
    "print(f'\\n입력된 색인 단어 목록')\n",
    "print(index_list)\n",
    "print('\\n\\n')\n",
    "\n",
    "res_onehot = enc.transform(index_list).toarray()\n",
    "\n",
    "non_matched_list = []\n",
    "for i, onehot in enumerate(res_onehot):\n",
    "    word = ''\n",
    "    if index_list[i] in WORDS:\n",
    "        print(f'{index_list[i][0]} {\"-\" * 10}', end='')\n",
    "    else:\n",
    "        print(f'{\".\":>10}', end='')\n",
    "        non_matched_list.append(index_list[i][0])\n",
    "\n",
    "    print(f'{word}', onehot)\n",
    "\n",
    "print('\\nnon_matched_list')\n",
    "print(non_matched_list)"
   ],
   "metadata": {
    "collapsed": false,
    "pycharm": {
     "name": "#%%\n"
    }
   }
  },
  {
   "cell_type": "markdown",
   "source": [
    "### 결과"
   ],
   "metadata": {
    "collapsed": false,
    "pycharm": {
     "name": "#%% md\n"
    }
   }
  },
  {
   "cell_type": "code",
   "execution_count": 4,
   "outputs": [
    {
     "name": "stdout",
     "output_type": "stream",
     "text": [
      "입력 단어\n",
      "['28일' '카카오엔터프라이즈' '카카오워크' '이용자' '발송' '공지' '메일' '통해' '내년' '업데이트' '예정' '기능'\n",
      " '안내' '개발' '예정' '목록' '카카오톡' '메시지' '삭제' '전화번호' '멤버' '초대' '기능' '포함' '있다']\n",
      "\n",
      "출력 vector\n",
      "BoW :  [1. 1. 2. 1. 1. 1. 1. 1. 0. 1. 1. 1.]\n",
      "idx :  ['개발', '공지', '기능', '메시지', '메일', '멤버', '업데이트', '전화번호', '카카오', '카카오엔터프라이즈', '카카오워크', '카카오톡']\n"
     ]
    }
   ],
   "source": [
    "def bow(words : list, idx_list : list):\n",
    "    static_categories = np.array(words).reshape(-1, 1)\n",
    "\n",
    "    # handle_unknown : 변환 중에 알 수 없는 범주 특성이 있는 경우 오류를 발생 시킬지 여부\n",
    "    one_hot_encoder = OneHotEncoder(handle_unknown='ignore')\n",
    "    one_hot_encoder.fit(static_categories)\n",
    "\n",
    "    one_hots = one_hot_encoder.transform(idx_list).toarray()\n",
    "\n",
    "    bow_result = np.sum(one_hots, axis=0)\n",
    "\n",
    "    return bow_result\n",
    "\n",
    "index_list = np.array(TEST_STRING.split())\n",
    "index_list = index_list.reshape(-1, 1)\n",
    "\n",
    "print('입력 단어')\n",
    "print(f'{index_list.reshape(-1)}\\n')\n",
    "\n",
    "print('출력 vector')\n",
    "print('BoW : ', bow(WORDS, index_list))\n",
    "print('idx : ', sorted(WORDS, key=str.lower))"
   ],
   "metadata": {
    "collapsed": false,
    "pycharm": {
     "name": "#%%\n"
    }
   }
  },
  {
   "cell_type": "markdown",
   "source": [
    "# bow 추가 (numpy)"
   ],
   "metadata": {
    "collapsed": false,
    "pycharm": {
     "name": "#%% md\n"
    }
   }
  },
  {
   "cell_type": "code",
   "execution_count": 19,
   "outputs": [
    {
     "name": "stdout",
     "output_type": "stream",
     "text": [
      "입력 단어\n",
      "['28일' '카카오엔터프라이즈' '카카오워크' '이용자' '발송' '공지' '메일' '통해' '내년' '업데이트' '예정' '기능'\n",
      " '안내' '개발' '예정' '목록' '카카오톡' '메시지' '삭제' '전화번호' '멤버' '초대' '기능' '포함' '있다']\n",
      "\n",
      "출력 vector\n",
      "[1 1 2 1 1 1 1 1 0 1 1 1]\n",
      "BoW :  None\n",
      "idx :  ['개발', '공지', '기능', '메시지', '메일', '멤버', '업데이트', '전화번호', '카카오', '카카오엔터프라이즈', '카카오워크', '카카오톡']\n"
     ]
    }
   ],
   "source": [
    "def bow(words : list, idx_list : list):\n",
    "    bow_list = []\n",
    "    words = sorted(words, key=str.lower)\n",
    "\n",
    "    for idx in idx_list:\n",
    "        one_hot = [0] * len(words)\n",
    "        if idx in words:\n",
    "            one_hot[words.index(idx)] = 1\n",
    "\n",
    "        bow_list.append(one_hot)\n",
    "\n",
    "    print(np.sum(bow_list, axis=0))\n",
    "\n",
    "index_list = np.array(TEST_STRING.split())\n",
    "index_list = index_list.reshape(-1, 1)\n",
    "\n",
    "print('입력 단어')\n",
    "print(f'{index_list.reshape(-1)}\\n')\n",
    "\n",
    "print('출력 vector')\n",
    "print('BoW : ', bow(WORDS, index_list))\n",
    "print('idx : ', sorted(WORDS, key=str.lower))"
   ],
   "metadata": {
    "collapsed": false,
    "pycharm": {
     "name": "#%%\n"
    }
   }
  },
  {
   "cell_type": "markdown",
   "source": [
    "# N-gram\n",
    "\n",
    "### 의문\n",
    "1. N-gram을 만들때 입력이 어떻게 될까?? (string? list?)"
   ],
   "metadata": {
    "collapsed": false,
    "pycharm": {
     "name": "#%% md\n"
    }
   }
  },
  {
   "cell_type": "code",
   "execution_count": 5,
   "outputs": [
    {
     "name": "stdout",
     "output_type": "stream",
     "text": [
      "25\n",
      "28일 카카오엔터프라이즈\n",
      "카카오엔터프라이즈 카카오워크\n",
      "카카오워크 이용자\n",
      "이용자 발송\n",
      "발송 공지\n",
      "공지 메일\n",
      "메일 통해\n",
      "통해 내년\n",
      "내년 업데이트\n",
      "업데이트 예정\n",
      "예정 기능\n",
      "기능 안내\n",
      "안내 개발\n",
      "개발 예정\n",
      "예정 목록\n",
      "목록 카카오톡\n",
      "카카오톡 메시지\n",
      "메시지 삭제\n",
      "삭제 전화번호\n",
      "전화번호 멤버\n",
      "멤버 초대\n",
      "초대 기능\n",
      "기능 포함\n"
     ]
    }
   ],
   "source": [
    "n = 2\n",
    "\n",
    "word_list = TEST_STRING.split()\n",
    "\n",
    "res = []\n",
    "print(len(word_list))\n",
    "for i in range(len(word_list) - n):\n",
    "    res_str = ''\n",
    "    for j in range(n):\n",
    "        res_str += f'{word_list[i + j]} '\n",
    "    res_str = res_str.rstrip()\n",
    "\n",
    "    res.append(res_str)\n",
    "\n",
    "    print(res_str)"
   ],
   "metadata": {
    "collapsed": false,
    "pycharm": {
     "name": "#%%\n"
    }
   }
  },
  {
   "cell_type": "code",
   "execution_count": 6,
   "outputs": [],
   "source": [
    "def ngram(n, word_list):\n",
    "    n_grams = []\n",
    "    for i in range(len(word_list) - n):\n",
    "        res_str = ''\n",
    "        for j in range(n):\n",
    "            res_str += f'{word_list[i + j]} '\n",
    "        res_str = res_str.rstrip()\n",
    "\n",
    "        n_grams.append(res_str)\n",
    "\n",
    "    return n_grams\n"
   ],
   "metadata": {
    "collapsed": false,
    "pycharm": {
     "name": "#%%\n"
    }
   }
  },
  {
   "cell_type": "code",
   "execution_count": 7,
   "outputs": [
    {
     "name": "stdout",
     "output_type": "stream",
     "text": [
      "28일 카카오엔터프라이즈\n",
      "카카오엔터프라이즈 카카오워크\n",
      "카카오워크 이용자\n",
      "이용자 발송\n",
      "발송 공지\n",
      "공지 메일\n",
      "메일 통해\n",
      "통해 내년\n",
      "내년 업데이트\n",
      "업데이트 예정\n",
      "예정 기능\n",
      "기능 안내\n",
      "안내 개발\n",
      "개발 예정\n",
      "예정 목록\n",
      "목록 카카오톡\n",
      "카카오톡 메시지\n",
      "메시지 삭제\n",
      "삭제 전화번호\n",
      "전화번호 멤버\n",
      "멤버 초대\n",
      "초대 기능\n",
      "기능 포함\n"
     ]
    }
   ],
   "source": [
    "word_list = TEST_STRING.split()\n",
    "res = ngram(2, word_list)\n",
    "\n",
    "for ress in res:\n",
    "    print(ress)"
   ],
   "metadata": {
    "collapsed": false,
    "pycharm": {
     "name": "#%%\n"
    }
   }
  },
  {
   "cell_type": "markdown",
   "source": [
    "# Tf-idf vector"
   ],
   "metadata": {
    "collapsed": false,
    "pycharm": {
     "name": "#%% md\n"
    }
   }
  },
  {
   "cell_type": "code",
   "execution_count": 36,
   "outputs": [],
   "source": [
    "import os\n",
    "import json\n",
    "import pandas as pd"
   ],
   "metadata": {
    "collapsed": false,
    "pycharm": {
     "name": "#%%\n"
    }
   }
  },
  {
   "cell_type": "code",
   "execution_count": 33,
   "outputs": [],
   "source": [
    "data_dir = './data/brunch'\n",
    "names = os.listdir(data_dir)\n",
    "\n",
    "name = names[0]\n",
    "# json_file = pd.read_json(f'{data_dir}/{name}')\n",
    "f = open(f'{data_dir}/{name}', 'r')\n",
    "lines = f.readlines()"
   ],
   "metadata": {
    "collapsed": false,
    "pycharm": {
     "name": "#%%\n"
    }
   }
  },
  {
   "cell_type": "code",
   "execution_count": 39,
   "outputs": [
    {
     "name": "stdout",
     "output_type": "stream",
     "text": [
      "{\"doc_id\":\"brch-19vv-51\",\"title\":\"내 결혼식장은 파리입니다. - 보잉 777을 타고 13시간 뒤 정거장에서 내리세요\",\"contents\":\"'전무님. 저 내일모레 파리에서 결혼식을 합니다.' 7년전 휴가 전날 까지도 왜 아직 청첩장을 안돌리냐는 한 임원의 질문에 어렵게 답을 했다. 와이프와 처음 데이트를 한 곳이 파리였고 거기서 단둘이 조촐하게 결혼 한다는 내 발언은 직원들 사이에 회자되기 충분한 얘깃거리였다. 그리고 그 결정은 어쩔수없이 일부 직원들의 반감을 가져왔다. 업계 내에서도 꽤나 보수적인 편에 속해 보통은 거래처까지 청첩장을 돌리는 문화였으니 그에 정면으로 도전했던 셈이었다. 게다가 계좌번호를 함께 보내는게 암묵적 관례였으니 나로 인한 변화가 마냥 달갑진 않았으리라. 당시 '갑'의 위치에서 근 천만원은 쉽게 들어왔겠지만 내가 부자라서가 아닌 조촐한 결혼식이 그 돈으로 인해 바래지기 싫었던 고집이 있었던 것 같다. 결국, 못받은 축의금은 회사에서 저질러버린 커밍아웃에 대한 비용이었고 내 삶의 방향성을 정하는데 든 수업료였다. '주주임 아껴서 하는 말이지만, 그렇게 회사생활하면 안돼' 결혼 전에도 후에도 내 결정에 대한 환호만큼이나 비판도 많았다. 그리고 비판의 대다수는 내게서 사라져버린 예의나 개념에 개탄해 했다. 그래도 많은 시선 속에서도 당당할 수 있던 이유는 '결혼'만큼은 그 누구도 관여할 수 없는 내 영역이란 확신을 갖고 행했었기 때문이다. 우리는 그간 사회에서 너무나 많은 간섭을 당연시 여겼고 어느새 당연하게 해간다. 밥에 박혀있는 콩을 몰래 골라내다가 혼나던 유년기를 지나고서도 점심시간 메뉴는 늘 상사의 선택에 좌지우지 되었으며 회식에서조차 내 술잔을 쉽게 내려놓지 못했다. '집단'이란 미명하에 개인의 작은 권리까지도 아주 쉽게 무시되고 보다 관행화 되었다. 엄마의 콩밥은 그나마 사랑이었다손 치나 상사의 술잔은 어떻게 여겨야 했나. 그 집단 문화 속에서 스러져 가는 '나'를 세우고 선을 그었던 것이 바로 결혼이었다. 신입사원으로서 나조차 사회생활의 개념이 명확치 않았던 때 결혼은 이후 많은 갈림길에서 이정표로 작용했다. 관행 속에 묻힐 뻔한 권리들을 되찾을 목소리가 되었고 문제점을 직시할 수 있는 눈이 되어주었다. 언젠가 부장들 사이에서 '해외패션팀(우리부서)은 Google 이네' 라는 비아냥이 고깝게 들리긴 했어도 그만큼 우리부서의 사원들은 개인사를 보장받을 수 있었다. 집단문화에 항거하고자 하던게 아닌 당연하게 여겨지던 악습에서 해방당하고 싶었을 뿐이었다. 그래도 다행인점은 최근 사회분위기가 '꼰대문화' 라는 날선 비판을 통해 자정작용을 거치고 있어 이런 시도에 대한 시선이 한결 부드러워졌다는 것이다. 당연한거지만, 우린 사회에다가 내 술잔을 내려놓을 권리까지 넘긴적은 없었기 때문이다. 오늘이 그 결혼식을 연지 7년차에 접어드는 날이다. 당시 멋모르던 신입사원이 이젠 크나큰 결정도 선뜻 스스로 내는 30대 중반이 되어버렸다. 요즘은 더이상 나를 보며 감놔라 배놔라 하는 이들은 없다. 아니 있어도 그다지 내게 영향을 미치진 못한다. 황희정승의 여러 일화 중 아직까지 다양한 해석을 남기고 있는 것이 하나 있다. 어느 날, 두 하녀가 싸우곤 시시비비를 가리고자 황희 정승에 하소연을 하러 찾아왔다. 황희정승이 한 하녀의 말을 듣곤 \\\"네 말이 옳구나.\\\" 하자 또 다른 한명이 주장을 한다. 이에 \\\"네 말도 옳다.\\\" 그가 들은 후, 말하였다. 그 광경을 보고 있던 부인이 말했다. \\\"두 사람이 서로 반대의 이야기를 하는데 둘이 다 옳다고 하시면 어떻게 합니까? 한 사람은 틀려야지요.\\\" 그러자 황희 정승은 말했다. \\\"당신의 말도 옳소.\\\" 이 일화를 두고 평화주의자 라는 평이 있는것에 반해 이도저도 아닌 회색분자라는 시각으로도 평이 갈린다. 근데, 이제 결혼 7년차에 접어드는 내게 있어 이 일화는 '삶이란 니말도 맞고 내말도 맞는데 결국 내말이 맞다는걸 증명하는 과정의 연속' 이란 메시지를 준다. 삶에 있어 그 누구도 정답은 없다, 그냥 남 피해주지 않는 범위내에서 마음대로 살았으면 좋겠다. 여보 간만에 유럽분위기 나는 식당에서 같이 데이트나 할까?\",\"tags\":\"결혼,퇴사,사랑\"}\n",
      "\n"
     ]
    }
   ],
   "source": [
    "print(lines[0])"
   ],
   "metadata": {
    "collapsed": false,
    "pycharm": {
     "name": "#%%\n"
    }
   }
  },
  {
   "cell_type": "code",
   "execution_count": null,
   "outputs": [],
   "source": [],
   "metadata": {
    "collapsed": false,
    "pycharm": {
     "name": "#%%\n"
    }
   }
  }
 ],
 "metadata": {
  "kernelspec": {
   "name": "rankingex",
   "language": "python",
   "display_name": "RankingEx"
  },
  "language_info": {
   "codemirror_mode": {
    "name": "ipython",
    "version": 2
   },
   "file_extension": ".py",
   "mimetype": "text/x-python",
   "name": "python",
   "nbconvert_exporter": "python",
   "pygments_lexer": "ipython2",
   "version": "2.7.6"
  }
 },
 "nbformat": 4,
 "nbformat_minor": 0
}