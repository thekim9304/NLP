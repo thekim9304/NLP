{
 "cells": [
  {
   "cell_type": "markdown",
   "metadata": {
    "collapsed": true,
    "pycharm": {
     "name": "#%% md\n"
    }
   },
   "source": [
    "# BoW (Bag-of-Words)\n",
    "\n",
    "### 의문\n",
    "1. 단어 Index 순서는 미리 정해져있는지??\n",
    "    - 아마 한 collection or breeze 엔진 내에서는 정해져 있을거 같음"
   ]
  },
  {
   "cell_type": "markdown",
   "source": [
    "### 과정"
   ],
   "metadata": {
    "collapsed": false,
    "pycharm": {
     "name": "#%% md\n"
    }
   }
  },
  {
   "cell_type": "code",
   "source": [
    "import numpy as np\n",
    "\n",
    "from sklearn.preprocessing import OneHotEncoder\n",
    "\n",
    "ORI_STRING = \"28일 카카오엔터프라이즈에 따르면 카카오워크 이용자들에게 발송한 공지 메일을 통해 내년 업데이트 예정 기능을 안내했다. 개발 예정 목록에 카카오톡처럼 보낸 메시지를 삭제하고, 전화번호로 새로운 멤버를 초대하는 기능이 포함돼 있다.\"\n",
    "# 형태소 색인 했다고 가정\n",
    "# 어잘 단위 분리 -> 조사/형용사 제거 (형태소)\n",
    "TEST_STRING = \"28일 카카오엔터프라이즈 카카오워크 이용자 발송 공지 메일 통해 내년 업데이트 예정 기능 안내 개발 예정 목록 카카오톡 메시지 삭제 전화번호 멤버 초대 기능 포함 있다\"\n",
    "WORDS = ['카카오엔터프라이즈', '카카오', '카카오워크', '공지', '멤버', '메일', '업데이트', '기능', '개발', '카카오톡', '메시지', '전화번호']"
   ],
   "metadata": {
    "collapsed": false,
    "pycharm": {
     "name": "#%%\n"
    }
   },
   "execution_count": 1,
   "outputs": []
  },
  {
   "cell_type": "code",
   "execution_count": 2,
   "outputs": [
    {
     "name": "stdout",
     "output_type": "stream",
     "text": [
      "Len of the static categories : 12\n",
      "idx : 0, word : 카카오엔터프라이즈\n",
      "idx : 1, word : 카카오\n",
      "idx : 2, word : 카카오워크\n",
      "idx : 3, word : 공지\n",
      "idx : 4, word : 멤버\n",
      "idx : 5, word : 메일\n",
      "idx : 6, word : 업데이트\n",
      "idx : 7, word : 기능\n",
      "idx : 8, word : 개발\n",
      "idx : 9, word : 카카오톡\n",
      "idx : 10, word : 메시지\n",
      "idx : 11, word : 전화번호\n",
      "\n",
      "\n",
      "입력된 categories (자동으로 오름차순 정렬)\n",
      "[array(['개발', '공지', '기능', '메시지', '메일', '멤버', '업데이트', '전화번호', '카카오',\n",
      "       '카카오엔터프라이즈', '카카오워크', '카카오톡'], dtype='<U9')]\n"
     ]
    }
   ],
   "source": [
    "index_list = np.array(TEST_STRING.split())\n",
    "index_list = index_list.reshape(-1, 1)\n",
    "\n",
    "print(f'Len of the static categories : {len(WORDS)}')\n",
    "categories = np.array(WORDS).reshape(-1, 1)\n",
    "for i, word in enumerate(WORDS):\n",
    "    print(f'idx : {i}, word : {word}')\n",
    "\n",
    "# handle_unknown : 변환 중에 알 수 없는 범주 특성이 있는 경우 오류를 발생 시킬지 여부\n",
    "enc = OneHotEncoder(handle_unknown='ignore')\n",
    "# 자동으로 오름차순 정렬\n",
    "enc.fit(categories)\n",
    "print('\\n\\n입력된 categories (자동으로 오름차순 정렬)')\n",
    "print(enc.categories_)"
   ],
   "metadata": {
    "collapsed": false,
    "pycharm": {
     "name": "#%%\n"
    }
   }
  },
  {
   "cell_type": "code",
   "execution_count": 3,
   "outputs": [
    {
     "name": "stdout",
     "output_type": "stream",
     "text": [
      "\n",
      "입력된 색인 단어 목록\n",
      "[['28일']\n",
      " ['카카오엔터프라이즈']\n",
      " ['카카오워크']\n",
      " ['이용자']\n",
      " ['발송']\n",
      " ['공지']\n",
      " ['메일']\n",
      " ['통해']\n",
      " ['내년']\n",
      " ['업데이트']\n",
      " ['예정']\n",
      " ['기능']\n",
      " ['안내']\n",
      " ['개발']\n",
      " ['예정']\n",
      " ['목록']\n",
      " ['카카오톡']\n",
      " ['메시지']\n",
      " ['삭제']\n",
      " ['전화번호']\n",
      " ['멤버']\n",
      " ['초대']\n",
      " ['기능']\n",
      " ['포함']\n",
      " ['있다']]\n",
      "\n",
      "\n",
      "\n",
      "         . [0. 0. 0. 0. 0. 0. 0. 0. 0. 0. 0. 0.]\n",
      "카카오엔터프라이즈 ---------- [0. 0. 0. 0. 0. 0. 0. 0. 0. 1. 0. 0.]\n",
      "카카오워크 ---------- [0. 0. 0. 0. 0. 0. 0. 0. 0. 0. 1. 0.]\n",
      "         . [0. 0. 0. 0. 0. 0. 0. 0. 0. 0. 0. 0.]\n",
      "         . [0. 0. 0. 0. 0. 0. 0. 0. 0. 0. 0. 0.]\n",
      "공지 ---------- [0. 1. 0. 0. 0. 0. 0. 0. 0. 0. 0. 0.]\n",
      "메일 ---------- [0. 0. 0. 0. 1. 0. 0. 0. 0. 0. 0. 0.]\n",
      "         . [0. 0. 0. 0. 0. 0. 0. 0. 0. 0. 0. 0.]\n",
      "         . [0. 0. 0. 0. 0. 0. 0. 0. 0. 0. 0. 0.]\n",
      "업데이트 ---------- [0. 0. 0. 0. 0. 0. 1. 0. 0. 0. 0. 0.]\n",
      "         . [0. 0. 0. 0. 0. 0. 0. 0. 0. 0. 0. 0.]\n",
      "기능 ---------- [0. 0. 1. 0. 0. 0. 0. 0. 0. 0. 0. 0.]\n",
      "         . [0. 0. 0. 0. 0. 0. 0. 0. 0. 0. 0. 0.]\n",
      "개발 ---------- [1. 0. 0. 0. 0. 0. 0. 0. 0. 0. 0. 0.]\n",
      "         . [0. 0. 0. 0. 0. 0. 0. 0. 0. 0. 0. 0.]\n",
      "         . [0. 0. 0. 0. 0. 0. 0. 0. 0. 0. 0. 0.]\n",
      "카카오톡 ---------- [0. 0. 0. 0. 0. 0. 0. 0. 0. 0. 0. 1.]\n",
      "메시지 ---------- [0. 0. 0. 1. 0. 0. 0. 0. 0. 0. 0. 0.]\n",
      "         . [0. 0. 0. 0. 0. 0. 0. 0. 0. 0. 0. 0.]\n",
      "전화번호 ---------- [0. 0. 0. 0. 0. 0. 0. 1. 0. 0. 0. 0.]\n",
      "멤버 ---------- [0. 0. 0. 0. 0. 1. 0. 0. 0. 0. 0. 0.]\n",
      "         . [0. 0. 0. 0. 0. 0. 0. 0. 0. 0. 0. 0.]\n",
      "기능 ---------- [0. 0. 1. 0. 0. 0. 0. 0. 0. 0. 0. 0.]\n",
      "         . [0. 0. 0. 0. 0. 0. 0. 0. 0. 0. 0. 0.]\n",
      "         . [0. 0. 0. 0. 0. 0. 0. 0. 0. 0. 0. 0.]\n",
      "\n",
      "non_matched_list\n",
      "['28일', '이용자', '발송', '통해', '내년', '예정', '안내', '예정', '목록', '삭제', '초대', '포함', '있다']\n"
     ]
    }
   ],
   "source": [
    "print(f'\\n입력된 색인 단어 목록')\n",
    "print(index_list)\n",
    "print('\\n\\n')\n",
    "\n",
    "res_onehot = enc.transform(index_list).toarray()\n",
    "\n",
    "non_matched_list = []\n",
    "for i, onehot in enumerate(res_onehot):\n",
    "    word = ''\n",
    "    if index_list[i] in WORDS:\n",
    "        print(f'{index_list[i][0]} {\"-\" * 10}', end='')\n",
    "    else:\n",
    "        print(f'{\".\":>10}', end='')\n",
    "        non_matched_list.append(index_list[i][0])\n",
    "\n",
    "    print(f'{word}', onehot)\n",
    "\n",
    "print('\\nnon_matched_list')\n",
    "print(non_matched_list)"
   ],
   "metadata": {
    "collapsed": false,
    "pycharm": {
     "name": "#%%\n"
    }
   }
  },
  {
   "cell_type": "markdown",
   "source": [
    "### 결과"
   ],
   "metadata": {
    "collapsed": false,
    "pycharm": {
     "name": "#%% md\n"
    }
   }
  },
  {
   "cell_type": "code",
   "execution_count": 4,
   "outputs": [
    {
     "name": "stdout",
     "output_type": "stream",
     "text": [
      "입력 단어\n",
      "['28일' '카카오엔터프라이즈' '카카오워크' '이용자' '발송' '공지' '메일' '통해' '내년' '업데이트' '예정' '기능'\n",
      " '안내' '개발' '예정' '목록' '카카오톡' '메시지' '삭제' '전화번호' '멤버' '초대' '기능' '포함' '있다']\n",
      "\n",
      "출력 vector\n",
      "BoW :  [1. 1. 2. 1. 1. 1. 1. 1. 0. 1. 1. 1.]\n",
      "idx :  ['개발', '공지', '기능', '메시지', '메일', '멤버', '업데이트', '전화번호', '카카오', '카카오엔터프라이즈', '카카오워크', '카카오톡']\n"
     ]
    }
   ],
   "source": [
    "def bow(words : list, idx_list : list):\n",
    "    static_categories = np.array(words).reshape(-1, 1)\n",
    "\n",
    "    # handle_unknown : 변환 중에 알 수 없는 범주 특성이 있는 경우 오류를 발생 시킬지 여부\n",
    "    one_hot_encoder = OneHotEncoder(handle_unknown='ignore')\n",
    "    one_hot_encoder.fit(static_categories)\n",
    "\n",
    "    one_hots = one_hot_encoder.transform(idx_list).toarray()\n",
    "\n",
    "    bow_result = np.sum(one_hots, axis=0)\n",
    "\n",
    "    return bow_result\n",
    "\n",
    "index_list = np.array(TEST_STRING.split())\n",
    "index_list = index_list.reshape(-1, 1)\n",
    "\n",
    "print('입력 단어')\n",
    "print(f'{index_list.reshape(-1)}\\n')\n",
    "\n",
    "print('출력 vector')\n",
    "print('BoW : ', bow(WORDS, index_list))\n",
    "print('idx : ', sorted(WORDS, key=str.lower))"
   ],
   "metadata": {
    "collapsed": false,
    "pycharm": {
     "name": "#%%\n"
    }
   }
  },
  {
   "cell_type": "markdown",
   "source": [
    "# bow 추가 (numpy)"
   ],
   "metadata": {
    "collapsed": false,
    "pycharm": {
     "name": "#%% md\n"
    }
   }
  },
  {
   "cell_type": "code",
   "execution_count": 19,
   "outputs": [
    {
     "name": "stdout",
     "output_type": "stream",
     "text": [
      "입력 단어\n",
      "['28일' '카카오엔터프라이즈' '카카오워크' '이용자' '발송' '공지' '메일' '통해' '내년' '업데이트' '예정' '기능'\n",
      " '안내' '개발' '예정' '목록' '카카오톡' '메시지' '삭제' '전화번호' '멤버' '초대' '기능' '포함' '있다']\n",
      "\n",
      "출력 vector\n",
      "[1 1 2 1 1 1 1 1 0 1 1 1]\n",
      "BoW :  None\n",
      "idx :  ['개발', '공지', '기능', '메시지', '메일', '멤버', '업데이트', '전화번호', '카카오', '카카오엔터프라이즈', '카카오워크', '카카오톡']\n"
     ]
    }
   ],
   "source": [
    "def bow(words : list, idx_list : list):\n",
    "    bow_list = []\n",
    "    words = sorted(words, key=str.lower)\n",
    "\n",
    "    for idx in idx_list:\n",
    "        one_hot = [0] * len(words)\n",
    "        if idx in words:\n",
    "            one_hot[words.index(idx)] = 1\n",
    "\n",
    "        bow_list.append(one_hot)\n",
    "\n",
    "    print(np.sum(bow_list, axis=0))\n",
    "\n",
    "index_list = np.array(TEST_STRING.split())\n",
    "index_list = index_list.reshape(-1, 1)\n",
    "\n",
    "print('입력 단어')\n",
    "print(f'{index_list.reshape(-1)}\\n')\n",
    "\n",
    "print('출력 vector')\n",
    "print('BoW : ', bow(WORDS, index_list))\n",
    "print('idx : ', sorted(WORDS, key=str.lower))"
   ],
   "metadata": {
    "collapsed": false,
    "pycharm": {
     "name": "#%%\n"
    }
   }
  },
  {
   "cell_type": "markdown",
   "source": [
    "# N-gram\n",
    "\n",
    "### 의문\n",
    "1. N-gram을 만들때 입력이 어떻게 될까?? (string? list?)"
   ],
   "metadata": {
    "collapsed": false,
    "pycharm": {
     "name": "#%% md\n"
    }
   }
  },
  {
   "cell_type": "code",
   "execution_count": 5,
   "outputs": [
    {
     "name": "stdout",
     "output_type": "stream",
     "text": [
      "25\n",
      "28일 카카오엔터프라이즈\n",
      "카카오엔터프라이즈 카카오워크\n",
      "카카오워크 이용자\n",
      "이용자 발송\n",
      "발송 공지\n",
      "공지 메일\n",
      "메일 통해\n",
      "통해 내년\n",
      "내년 업데이트\n",
      "업데이트 예정\n",
      "예정 기능\n",
      "기능 안내\n",
      "안내 개발\n",
      "개발 예정\n",
      "예정 목록\n",
      "목록 카카오톡\n",
      "카카오톡 메시지\n",
      "메시지 삭제\n",
      "삭제 전화번호\n",
      "전화번호 멤버\n",
      "멤버 초대\n",
      "초대 기능\n",
      "기능 포함\n"
     ]
    }
   ],
   "source": [
    "n = 2\n",
    "\n",
    "word_list = TEST_STRING.split()\n",
    "\n",
    "res = []\n",
    "print(len(word_list))\n",
    "for i in range(len(word_list) - n):\n",
    "    res_str = ''\n",
    "    for j in range(n):\n",
    "        res_str += f'{word_list[i + j]} '\n",
    "    res_str = res_str.rstrip()\n",
    "\n",
    "    res.append(res_str)\n",
    "\n",
    "    print(res_str)"
   ],
   "metadata": {
    "collapsed": false,
    "pycharm": {
     "name": "#%%\n"
    }
   }
  },
  {
   "cell_type": "code",
   "execution_count": 6,
   "outputs": [],
   "source": [
    "def ngram(n, word_list):\n",
    "    n_grams = []\n",
    "    for i in range(len(word_list) - n):\n",
    "        res_str = ''\n",
    "        for j in range(n):\n",
    "            res_str += f'{word_list[i + j]} '\n",
    "        res_str = res_str.rstrip()\n",
    "\n",
    "        n_grams.append(res_str)\n",
    "\n",
    "    return n_grams\n"
   ],
   "metadata": {
    "collapsed": false,
    "pycharm": {
     "name": "#%%\n"
    }
   }
  },
  {
   "cell_type": "code",
   "execution_count": 7,
   "outputs": [
    {
     "name": "stdout",
     "output_type": "stream",
     "text": [
      "28일 카카오엔터프라이즈\n",
      "카카오엔터프라이즈 카카오워크\n",
      "카카오워크 이용자\n",
      "이용자 발송\n",
      "발송 공지\n",
      "공지 메일\n",
      "메일 통해\n",
      "통해 내년\n",
      "내년 업데이트\n",
      "업데이트 예정\n",
      "예정 기능\n",
      "기능 안내\n",
      "안내 개발\n",
      "개발 예정\n",
      "예정 목록\n",
      "목록 카카오톡\n",
      "카카오톡 메시지\n",
      "메시지 삭제\n",
      "삭제 전화번호\n",
      "전화번호 멤버\n",
      "멤버 초대\n",
      "초대 기능\n",
      "기능 포함\n"
     ]
    }
   ],
   "source": [
    "word_list = TEST_STRING.split()\n",
    "res = ngram(2, word_list)\n",
    "\n",
    "for ress in res:\n",
    "    print(ress)"
   ],
   "metadata": {
    "collapsed": false,
    "pycharm": {
     "name": "#%%\n"
    }
   }
  },
  {
   "cell_type": "markdown",
   "source": [
    "# Tf-idf vector"
   ],
   "metadata": {
    "collapsed": false,
    "pycharm": {
     "name": "#%% md\n"
    }
   }
  }
 ],
 "metadata": {
  "kernelspec": {
   "name": "rankingex",
   "language": "python",
   "display_name": "RankingEx"
  },
  "language_info": {
   "codemirror_mode": {
    "name": "ipython",
    "version": 2
   },
   "file_extension": ".py",
   "mimetype": "text/x-python",
   "name": "python",
   "nbconvert_exporter": "python",
   "pygments_lexer": "ipython2",
   "version": "2.7.6"
  }
 },
 "nbformat": 4,
 "nbformat_minor": 0
}